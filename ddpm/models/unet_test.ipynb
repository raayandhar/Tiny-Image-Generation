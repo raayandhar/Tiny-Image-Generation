{
 "cells": [
  {
   "cell_type": "code",
   "execution_count": 4,
   "id": "7b78c41b-922d-4edf-8f00-3f6354fdb2d1",
   "metadata": {},
   "outputs": [],
   "source": [
    "import torch\n",
    "import torch.nn as nn\n",
    "import torch.nn.functional as F\n",
    "from torchvision import transforms\n",
    "import matplotlib.pyplot as plt"
   ]
  },
  {
   "cell_type": "code",
   "execution_count": 5,
   "id": "2ae8e18b-57ab-47a5-8f03-d2aaba5941f4",
   "metadata": {},
   "outputs": [
    {
     "data": {
      "text/plain": [
       "'\\nfrom unet import BaseUNet\\nfrom unet_modules import *\\n\\nsample_input = torch.randn(1, 3, 256, 256)\\nunet = BaseUNet(3, 1)\\noutput = unet(sample_input)\\nprint(output.shape)\\n'"
      ]
     },
     "execution_count": 5,
     "metadata": {},
     "output_type": "execute_result"
    }
   ],
   "source": [
    "\n",
    "from unet import BaseUNet\n",
    "from unet_modules import *\n",
    "\n",
    "sample_input = torch.randn(1, 3, 256, 256)\n",
    "unet = BaseUNet(3, 1)\n",
    "output = unet(sample_input)\n",
    "print(output.shape)"
   ]
  },
  {
   "cell_type": "code",
   "execution_count": 6,
   "id": "dd6ca80f-0915-4825-a7da-6f0e58b80bed",
   "metadata": {},
   "outputs": [],
   "source": [
    "plt.imshow(output.squeeze().detach().numpy(), cmap='gray')\n",
    "plt.show()"
   ]
  },
  {
   "cell_type": "code",
   "execution_count": null,
   "id": "4ad9333b-5d03-46bf-9589-b66d95400e77",
   "metadata": {},
   "outputs": [],
   "source": []
  }
 ],
 "metadata": {
  "kernelspec": {
   "display_name": "diffusion",
   "language": "python",
   "name": "diffusion"
  },
  "language_info": {
   "codemirror_mode": {
    "name": "ipython",
    "version": 3
   },
   "file_extension": ".py",
   "mimetype": "text/x-python",
   "name": "python",
   "nbconvert_exporter": "python",
   "pygments_lexer": "ipython3",
   "version": "3.11.8"
  }
 },
 "nbformat": 4,
 "nbformat_minor": 5
}
