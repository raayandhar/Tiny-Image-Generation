{
 "cells": [
  {
   "cell_type": "code",
   "execution_count": 1,
   "id": "7b78c41b-922d-4edf-8f00-3f6354fdb2d1",
   "metadata": {},
   "outputs": [],
   "source": [
    "import torch\n",
    "import torch.nn as nn\n",
    "import torch.nn.functional as F\n",
    "from torch import nn, einsum\n",
    "from torchvision import transforms\n",
    "import matplotlib.pyplot as plt\n",
    "import math\n",
    "from inspect import isfunction\n",
    "from functools import partial\n",
    "from tqdm.auto import tqdm\n",
    "from einops import rearrange"
   ]
  },
  {
   "cell_type": "code",
   "execution_count": 4,
   "id": "9b2057e2-4360-4b51-8431-809ba7e019f0",
   "metadata": {},
   "outputs": [
    {
     "name": "stdout",
     "output_type": "stream",
     "text": [
      "Dim shape: 32\n",
      "time shape torch.Size([32])\n",
      "Time emb shape torch.Size([32, 64])\n",
      "Time emb shape torch.Size([32, 64])\n",
      "intermediate x shape torch.Size([32, 32, 128, 128])\n",
      "Time emb shape torch.Size([32, 64])\n",
      "Time emb shape torch.Size([32, 64])\n",
      "intermediate x shape torch.Size([32, 32, 64, 64])\n",
      "Time emb shape torch.Size([32, 128])\n",
      "Time emb shape torch.Size([32, 128])\n",
      "intermediate x shape torch.Size([32, 64, 32, 32])\n",
      "Time emb shape torch.Size([32, 256])\n",
      "Time emb shape torch.Size([32, 256])\n",
      "Time emb shape torch.Size([32, 512])\n",
      "Time emb shape torch.Size([32, 512])\n",
      "Time emb shape torch.Size([32, 512])\n",
      "Time emb shape torch.Size([32, 512])\n",
      "Time emb shape torch.Size([32, 256])\n",
      "Time emb shape torch.Size([32, 256])\n",
      "Time emb shape torch.Size([32, 128])\n",
      "Time emb shape torch.Size([32, 128])\n",
      "Time emb shape torch.Size([32, 64])\n",
      "Time emb shape torch.Size([32, 64])\n",
      "Time emb shape torch.Size([32, 64])\n",
      "output shape torch.Size([32, 32, 128, 128])\n",
      "LeHype torch.Size([32, 1, 128, 128])\n"
     ]
    }
   ],
   "source": [
    "from unet import KarrasUNet\n",
    "from unet_modules import *\n",
    "\n",
    "batch_size = 32\n",
    "channels = 1\n",
    "height = 128\n",
    "width = 128\n",
    "sample_input = torch.randn(batch_size, channels, height, width)\n",
    "\n",
    "\n",
    "dim = 32\n",
    "dim_mults = (1, 2, 4, 8)\n",
    "unet = KarrasUNet(dim=dim, dim_mults=dim_mults, channels=channels)\n",
    "time = torch.randn(32)\n",
    "output = unet(sample_input, time)\n",
    "\n",
    "print(\"LeHype\", output.shape)"
   ]
  },
  {
   "cell_type": "code",
   "execution_count": 5,
   "id": "53920511-12a5-46ca-bd09-67f990e56cbe",
   "metadata": {},
   "outputs": [
    {
     "name": "stdout",
     "output_type": "stream",
     "text": [
      "Using device: cuda\n",
      "Dim shape: 32\n",
      "time shape torch.Size([32])\n",
      "Time emb shape torch.Size([32, 64])\n",
      "Time emb shape torch.Size([32, 64])\n",
      "intermediate x shape torch.Size([32, 32, 128, 128])\n",
      "Time emb shape torch.Size([32, 64])\n",
      "Time emb shape torch.Size([32, 64])\n",
      "intermediate x shape torch.Size([32, 32, 64, 64])\n",
      "Time emb shape torch.Size([32, 128])\n",
      "Time emb shape torch.Size([32, 128])\n",
      "intermediate x shape torch.Size([32, 64, 32, 32])\n",
      "Time emb shape torch.Size([32, 256])\n",
      "Time emb shape torch.Size([32, 256])\n",
      "Time emb shape torch.Size([32, 512])\n",
      "Time emb shape torch.Size([32, 512])\n",
      "Time emb shape torch.Size([32, 512])\n",
      "Time emb shape torch.Size([32, 512])\n",
      "Time emb shape torch.Size([32, 256])\n",
      "Time emb shape torch.Size([32, 256])\n",
      "Time emb shape torch.Size([32, 128])\n",
      "Time emb shape torch.Size([32, 128])\n",
      "Time emb shape torch.Size([32, 64])\n",
      "Time emb shape torch.Size([32, 64])\n",
      "Time emb shape torch.Size([32, 64])\n",
      "output shape torch.Size([32, 32, 128, 128])\n",
      "This is what we got torch.Size([32, 1, 128, 128])\n"
     ]
    }
   ],
   "source": [
    "device = torch.device(\"cuda\" if torch.cuda.is_available() else \"cpu\")\n",
    "print(f\"Using device: {device}\")\n",
    "\n",
    "batch_size = 32\n",
    "channels = 1\n",
    "height = 128  \n",
    "width = 128\n",
    "\n",
    "sample_input = torch.randn(batch_size, channels, height, width)\n",
    "\n",
    "dim = 32\n",
    "dim_mults = (1, 2, 4, 8)\n",
    "\n",
    "unet = KarrasUNet(dim=dim, dim_mults=dim_mults, channels=channels)\n",
    "\n",
    "unet = unet.to(device)\n",
    "sample_input = sample_input.to(device)\n",
    "time = torch.randn(batch_size).to(device)\n",
    "\n",
    "output = unet(sample_input, time)\n",
    "\n",
    "print(\"This is what we got\", output.shape)"
   ]
  },
  {
   "cell_type": "code",
   "execution_count": null,
   "id": "c53d69d9-6bb7-4846-9ae5-e1d55d349823",
   "metadata": {},
   "outputs": [],
   "source": []
  }
 ],
 "metadata": {
  "kernelspec": {
   "display_name": "diffusion",
   "language": "python",
   "name": "diffusion"
  },
  "language_info": {
   "codemirror_mode": {
    "name": "ipython",
    "version": 3
   },
   "file_extension": ".py",
   "mimetype": "text/x-python",
   "name": "python",
   "nbconvert_exporter": "python",
   "pygments_lexer": "ipython3",
   "version": "3.11.8"
  }
 },
 "nbformat": 4,
 "nbformat_minor": 5
}
